{
 "cells": [
  {
   "cell_type": "markdown",
   "metadata": {},
   "source": [
    "![title](img/seq2seq.png)"
   ]
  },
  {
   "cell_type": "code",
   "execution_count": 30,
   "metadata": {},
   "outputs": [],
   "source": [
    "import tensorflow as tf\n",
    "import numpy as np"
   ]
  },
  {
   "cell_type": "code",
   "execution_count": 31,
   "metadata": {},
   "outputs": [],
   "source": [
    "PARAMS = {\n",
    "    'embed_dims': 15,\n",
    "    'rnn_size': 50,\n",
    "    'num_layer': 1,\n",
    "    'beam_width': 5,\n",
    "    'clip_norm': 5.0,\n",
    "    'batch_size': 128,\n",
    "}"
   ]
  },
  {
   "cell_type": "code",
   "execution_count": 32,
   "metadata": {},
   "outputs": [],
   "source": [
    "def read_data(path):\n",
    "    with open(path, 'r', encoding='utf-8') as f:\n",
    "        return f.read()\n",
    "    \n",
    "def build_map(data):\n",
    "    specials = ['<PAD>', '<GO>',  '<EOS>', '<UNK>']\n",
    "    chars = list(set([char for line in data.split('\\n') for char in line]))\n",
    "    idx2char = {idx: char for idx, char in enumerate(specials + chars)}\n",
    "    char2idx = {char: idx for idx, char in idx2char.items()}\n",
    "    return idx2char, char2idx\n",
    "\n",
    "def preprocess_data():\n",
    "    source = read_data('../temp/letters_source.txt')\n",
    "    target = read_data('../temp/letters_target.txt')\n",
    "\n",
    "    PARAMS['src_idx2char'], PARAMS['src_char2idx'] = build_map(source)\n",
    "    PARAMS['tgt_idx2char'], PARAMS['tgt_char2idx'] = build_map(target)\n",
    "\n",
    "    src_idx = [[PARAMS['src_char2idx'].get(char, 3) for char in line] for line in source.split('\\n')]\n",
    "    tgt_idx = [[PARAMS['tgt_char2idx'].get(char, 3) for char in line]+[2] for line in target.split('\\n')]\n",
    "\n",
    "    return src_idx, tgt_idx"
   ]
  },
  {
   "cell_type": "code",
   "execution_count": 33,
   "metadata": {},
   "outputs": [],
   "source": [
    "def pad_sent_batch(sent_batch):\n",
    "    max_sent_len = max([len(sent) for sent in sentence_batch])\n",
    "    padded_seqs = [(sent + [0]*(max_sent_len - len(sent))) for sent in sent_batch]\n",
    "    return padded_seqs\n",
    "\n",
    "def next_train_batch(src_idx, tgt_idx):\n",
    "    for i in range(0, len(scr_idx), batch_size):\n",
    "        padded_src = pad_sent_batch(scr_idx[i: i+batch_size])\n",
    "        padded_tgt = pad_sent_batch(tgt_idx[i: i+batch_size])\n",
    "        yield padded_src, padded_tgt\n",
    "\n",
    "def train_input_fn(src_idx, tgt_idx):\n",
    "    dataset = tf.data.Dataset.from_generator(\n",
    "        lambda: next_train_batch(src_idx, tgt_idx),\n",
    "        (tf.int32, tf.int32),\n",
    "        (tf.TensorShape([None, None]), tf.TensorShape([None, None])))\n",
    "    iterator = dataset.make_one_shot_iterator()\n",
    "    return iterator.get_next()"
   ]
  },
  {
   "cell_type": "code",
   "execution_count": null,
   "metadata": {},
   "outputs": [],
   "source": [
    "def rnn_cell():\n",
    "    def cell_fn():\n",
    "        cell = tf.nn.rnn_cell.GRUCell(PARAMS['rnn_size'],\n",
    "                                      initializer=tf.orthogonal_initializer())\n",
    "        return cell\n",
    "    return tf.nn.rnn_cell.MultiRNNCell([cell_fn() for _ in range(PARMAS['num_layers'])])\n",
    "\n",
    "def dec_cell(enc_out, enc_seq_len):\n",
    "    attention = tf.contrib.seq2seq.BahdanauAttention(\n",
    "        num_units = PARAMS['rnn_size'],\n",
    "        memory = enc_out,\n",
    "        memory_sequence_length = enc_seq_len)\n",
    "    \n",
    "    return tf.contrib.seq2seq.AttentionWrapper(\n",
    "        cell = rnn_cell(),\n",
    "        attention_mechanism = attention,\n",
    "        attention_layer_size = PARAMS['rnn_size'])\n",
    "\n",
    "def forward(inputs, labels, reuse, is_training):\n",
    "    enc_seq_len = tf.count_nonzero(inputs, 1)\n",
    "    dec_seq_len = tf.count_nonzero(labels, 1)\n",
    "    \n",
    "    with tf.variable_scope('encoder', reuse=reuse):\n",
    "        embedding = tf.get_variable('lookup_table',\n",
    "                                    [len(PARAMS['src_char2idx']), args['embed_dims']])\n",
    "        \n",
    "        \n",
    "    with tf.variable_scope('decoder', reuse=reuse):\n",
    "        enc_out_t = tf.contrib.seq2seq.tile_batch(enc_out, PARAMS['beam_width'])\n",
    "        enc_state_t = tf.contrib.seq2seq.tile_batch(enc_state, PARAMS['beam_width'])\n",
    "        enc_seq_len_t = tf.contrib.seq2seq.tile_batch(enc_seq_len, PARAMS['beam_width'])\n",
    "        \n",
    "        if is_training:\n",
    "            \n",
    "        else:\n",
    "            \n",
    "        \n",
    "    return "
   ]
  },
  {
   "cell_type": "code",
   "execution_count": 34,
   "metadata": {},
   "outputs": [],
   "source": [
    "def model_fn(features, labels, mode, params):\n",
    "    if labels is None:\n",
    "        labels = tf.placeholder(tf.int32, [None, None])\n",
    "    \n",
    "    if mode == tf.estimator.ModeKeys.PREDICT:\n",
    "        pass\n",
    "        \n",
    "    if mode == tf.estimator.ModeKeys.TRAIN:\n",
    "        pass\n",
    "        "
   ]
  },
  {
   "cell_type": "code",
   "execution_count": 36,
   "metadata": {},
   "outputs": [
    {
     "ename": "TypeError",
     "evalue": "'tuple' object is not an iterator",
     "output_type": "error",
     "traceback": [
      "\u001b[0;31m---------------------------------------------------------------------------\u001b[0m",
      "\u001b[0;31mTypeError\u001b[0m                                 Traceback (most recent call last)",
      "\u001b[0;32m<ipython-input-36-2eee3bbbe825>\u001b[0m in \u001b[0;36m<module>\u001b[0;34m()\u001b[0m\n\u001b[1;32m      1\u001b[0m \u001b[0msrc_idx\u001b[0m\u001b[0;34m,\u001b[0m \u001b[0mtgt_idx\u001b[0m \u001b[0;34m=\u001b[0m \u001b[0mpreprocess_data\u001b[0m\u001b[0;34m(\u001b[0m\u001b[0;34m)\u001b[0m\u001b[0;34m\u001b[0m\u001b[0m\n\u001b[0;32m----> 2\u001b[0;31m \u001b[0minp1\u001b[0m\u001b[0;34m,\u001b[0m \u001b[0minp2\u001b[0m \u001b[0;34m=\u001b[0m \u001b[0mnext\u001b[0m\u001b[0;34m(\u001b[0m\u001b[0mtrain_input_fn\u001b[0m\u001b[0;34m(\u001b[0m\u001b[0msrc_idx\u001b[0m\u001b[0;34m,\u001b[0m \u001b[0mtgt_idx\u001b[0m\u001b[0;34m)\u001b[0m\u001b[0;34m)\u001b[0m\u001b[0;34m\u001b[0m\u001b[0m\n\u001b[0m\u001b[1;32m      3\u001b[0m \u001b[0;34m\u001b[0m\u001b[0m\n\u001b[1;32m      4\u001b[0m \u001b[0msess\u001b[0m \u001b[0;34m=\u001b[0m \u001b[0mtf\u001b[0m\u001b[0;34m.\u001b[0m\u001b[0mSession\u001b[0m\u001b[0;34m(\u001b[0m\u001b[0;34m)\u001b[0m\u001b[0;34m\u001b[0m\u001b[0m\n\u001b[1;32m      5\u001b[0m \u001b[0mprint\u001b[0m\u001b[0;34m(\u001b[0m\u001b[0msess\u001b[0m\u001b[0;34m.\u001b[0m\u001b[0mrun\u001b[0m\u001b[0;34m(\u001b[0m\u001b[0minp2\u001b[0m\u001b[0;34m)\u001b[0m\u001b[0;34m)\u001b[0m\u001b[0;34m\u001b[0m\u001b[0m\n",
      "\u001b[0;31mTypeError\u001b[0m: 'tuple' object is not an iterator"
     ]
    }
   ],
   "source": [
    "src_idx, tgt_idx = preprocess_data()\n",
    "\n",
    "#estimator.train(lambda: train_input_fn(src_idx, tgt_idx))"
   ]
  },
  {
   "cell_type": "code",
   "execution_count": null,
   "metadata": {},
   "outputs": [],
   "source": []
  }
 ],
 "metadata": {
  "kernelspec": {
   "display_name": "Python 3",
   "language": "python",
   "name": "python3"
  },
  "language_info": {
   "codemirror_mode": {
    "name": "ipython",
    "version": 3
   },
   "file_extension": ".py",
   "mimetype": "text/x-python",
   "name": "python",
   "nbconvert_exporter": "python",
   "pygments_lexer": "ipython3",
   "version": "3.6.3"
  }
 },
 "nbformat": 4,
 "nbformat_minor": 2
}
